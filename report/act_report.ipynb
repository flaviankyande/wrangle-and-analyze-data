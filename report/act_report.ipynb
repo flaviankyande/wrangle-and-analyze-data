{
 "cells": [
  {
   "cell_type": "markdown",
   "metadata": {},
   "source": [
    "## Report: act_report"
   ]
  },
  {
   "cell_type": "markdown",
   "metadata": {},
   "source": [
    "### Introduction"
   ]
  },
  {
   "cell_type": "markdown",
   "metadata": {},
   "source": [
    "WeRateDogs is a Twitter account that rates people's dogs with a humorous comment about the dog. Their Twitter data was wrangled and analysis conducted. Here are some insights and visualizations I could gather from the data."
   ]
  },
  {
   "cell_type": "markdown",
   "metadata": {},
   "source": [
    "### Insights and Visualizations"
   ]
  },
  {
   "cell_type": "markdown",
   "metadata": {},
   "source": [
    "#### 1. Dog breed social media dominance\n",
    "\n",
    "What breeds have the most retweet counts and favorite counts? A countplot could show us which breed takes the social media crown."
   ]
  },
  {
   "cell_type": "markdown",
   "metadata": {},
   "source": [
    "![Top 10 favorited dog breeds](../visuals/top_favorited.png)"
   ]
  },
  {
   "cell_type": "markdown",
   "metadata": {},
   "source": [
    "Here we can see that Labrador retriever takes the top spot for top favorited dog breeds on twitter."
   ]
  },
  {
   "cell_type": "markdown",
   "metadata": {},
   "source": [
    "![Top 10 retweeted dog breeds on Twitter](../visuals/top_retweeted.png)"
   ]
  },
  {
   "cell_type": "markdown",
   "metadata": {},
   "source": [
    "Wow! Would you look at that! Labrador retriever tops again but this time for the retweet count category. Those little furry friends are surely cute and cuddly!\n",
    "\n",
    "The Labrador retriever hence overall received the most social media attention."
   ]
  },
  {
   "cell_type": "markdown",
   "metadata": {},
   "source": [
    "#### 2. The super star: Top rated dog\n",
    "Which dog captured the heart of the judges most?  \n",
    "After some analysis on the data, Atticus came on top with a whooping rating of 1776/10! Surely, looks like a superstar!"
   ]
  },
  {
   "cell_type": "markdown",
   "metadata": {},
   "source": [
    "<a href=\"https://twitter.com/dog_rates/status/749981277374128128/photo/1\"><img src=\"https://pbs.twimg.com/media/CmgBZ7kWcAAlzFD.jpg\" alt=\"The top rated dog: Atticus\" style=\"width: 1080px;\"/></a>"
   ]
  },
  {
   "cell_type": "markdown",
   "metadata": {},
   "source": [
    "#### 3. The main source"
   ]
  },
  {
   "cell_type": "markdown",
   "metadata": {},
   "source": [
    "Where does these awesome rating tweets stream from? A nice countplot visual could help us break this down."
   ]
  },
  {
   "cell_type": "markdown",
   "metadata": {},
   "source": [
    "![Tweet source](../visuals/tweet_source.png)"
   ]
  },
  {
   "cell_type": "markdown",
   "metadata": {},
   "source": [
    "It is no surprise that iPhone device dominates this list for source of tweets. Seems the account manager/s really fancy iPhone over other devices."
   ]
  },
  {
   "cell_type": "markdown",
   "metadata": {},
   "source": [
    "#### 4. Tweet frequency according to date"
   ]
  },
  {
   "cell_type": "markdown",
   "metadata": {},
   "source": [
    "We've already seen which dogs trend but how does the tweet frequency trend?  \n",
    "A nice lineplot will help view the periods with high and low frequency."
   ]
  },
  {
   "cell_type": "markdown",
   "metadata": {},
   "source": [
    "![Tweet frequency](../visuals/tweet_frequency.png)"
   ]
  },
  {
   "cell_type": "markdown",
   "metadata": {},
   "source": [
    "It's sad to see that the tweets have been decreasing with time. The earlier months of November and December back in 2015 had the highest tweet frequency and since then it has been a downward trend."
   ]
  }
 ],
 "metadata": {
  "kernelspec": {
   "display_name": "Python 3.9.12 ('base')",
   "language": "python",
   "name": "python3"
  },
  "language_info": {
   "codemirror_mode": {
    "name": "ipython",
    "version": 3
   },
   "file_extension": ".py",
   "mimetype": "text/x-python",
   "name": "python",
   "nbconvert_exporter": "python",
   "pygments_lexer": "ipython3",
   "version": "3.9.12"
  },
  "vscode": {
   "interpreter": {
    "hash": "058447d99194da2260a2b6c183a3bc5416edd973d7829816b35e3782865f7dd9"
   }
  }
 },
 "nbformat": 4,
 "nbformat_minor": 2
}
