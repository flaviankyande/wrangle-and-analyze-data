{
 "cells": [
  {
   "cell_type": "markdown",
   "metadata": {},
   "source": [
    "## Reporting: wrangle report"
   ]
  },
  {
   "cell_type": "markdown",
   "metadata": {},
   "source": [
    "### Objectives"
   ]
  },
  {
   "cell_type": "markdown",
   "metadata": {},
   "source": [
    "Data wrangling is a process that entails gathering, assessing and cleaning data. These form the objectives of the data wrangling process of the project:\n",
    "* **Gathering** - Collecting and loading data from various endpoints\n",
    "* **Assessing** - Visually and programmatically looking at the data for various issues\n",
    "* **Cleaning** - Correcting the issues from the assess stage  \n",
    "\n",
    "This process is also iterative."
   ]
  },
  {
   "cell_type": "markdown",
   "metadata": {},
   "source": [
    "### Step 1: Gather Data"
   ]
  },
  {
   "cell_type": "markdown",
   "metadata": {},
   "source": [
    "In this step, data from three different points were to be gathered using various methods:\n",
    "\n",
    "1. `twitter_archive_enhanced.csv` which was manually downloaded and loaded into the notebook as required.\n",
    "2. `image_predictions.tsv` which was loaded to the notebook programmatically.\n",
    "3. Retweet count and favorite data accessed from the Twitter API through Tweepy library and saved to `tweet_json.txt` and loaded to the notebook. This was possible through a script that used tweet IDs from archive data to get the data required seemlessly."
   ]
  },
  {
   "cell_type": "markdown",
   "metadata": {},
   "source": [
    "### Step 2 and 3: Assessing and Cleaning Data"
   ]
  },
  {
   "cell_type": "markdown",
   "metadata": {},
   "source": [
    "When assessing data, one faces issues to do with quality and tidiness. This is done through visually or programmatically assessing the data.\n",
    "\n",
    "<table>\n",
    "    <tr><th colspan=\"3\"><h5>Quality Issues</h5></th></tr>\n",
    "    <tr>\n",
    "        <th>Dataset</th>\n",
    "        <th>Observation</th>\n",
    "        <th>Solution</th>\n",
    "    </tr>\n",
    "    <tr>\n",
    "        <td rowspan=\"8\">Archive data</td>\n",
    "        <td>Data contains replies and retweets instead of orginal tweets</td>\n",
    "        <td>Removed retweeted and reply tweets and kept original tweets only</td>\n",
    "    </tr>\n",
    "    <tr>\n",
    "        <td>The columns <code>doggo</code>, <code>floofer</code>, <code>pupper</code> and <code>puppo</code> have <code>None</code> representing missing values</td>\n",
    "        <td>Changed <code>None</code> values to np.nan values</td>\n",
    "    </tr>\n",
    "    <tr>\n",
    "        <td><code>timestamp</code> is object data type instead of datetime</td>\n",
    "        <td>Data type changed from object to datetime data type</td>\n",
    "    </tr>\n",
    "    <tr>\n",
    "        <td><code>text</code> has links in them</td>\n",
    "        <td>Removed the links</td>\n",
    "    </tr>\n",
    "    <tr>\n",
    "        <td>The <code>rating_numerator</code> has incorrect values and datatypes</td>\n",
    "        <td>Extracted the numerator rating values again from the text column</td>\n",
    "    </tr>\n",
    "    <tr>\n",
    "        <td>The <code>rating_denominator</code> has incorrect values</td>\n",
    "        <td>Extracted the denominator rating values again from the text column</td>\n",
    "    </tr>\n",
    "    <tr>\n",
    "        <td>The <code>source</code> column values are closed within <code>&lt;a&gt;</code> tags</td>\n",
    "        <td>Extracted the source values again from <code>&lt;a&gt;</code> tags in the source column</td>\n",
    "    </tr>\n",
    "    <tr>\n",
    "        <td>Some columns are not necessary for analysis</td>\n",
    "        <td>Removed the unnecessary columns</td>\n",
    "    </tr>\n",
    "    <tr>\n",
    "        <td>Image predictions data</td>\n",
    "        <td>There are duplicated image url's in <code>jpg_url</code></td>\n",
    "        <td>Removed the duplicated image url rows</td>\n",
    "    </tr>\n",
    "    <tr>\n",
    "    <tr><th colspan=\"3\"><h5>Tidiness Issues</h5></th></tr>\n",
    "    <tr>\n",
    "        <th>Dataset</th>\n",
    "        <th>Observation</th>\n",
    "        <th>Solution</th>\n",
    "    </tr>\n",
    "    <tr>\n",
    "        <td>Archive data</td>\n",
    "        <td>The columns <code>doggo</code>, <code>floofer</code>, <code>pupper</code> and <code>puppo</code> should be in one column i.e <code>dog_stage</code></td>\n",
    "        <td>Melted the four columns into one column</td>\n",
    "    </tr>\n",
    "    <tr>\n",
    "        <td>Image predictions data</td>\n",
    "        <td>The columns <code>p1</code> <code>p1_conf</code> <code>p1_dog</code> <code>p2</code> <code>p2_conf</code> <code>p2_dog</code> <code>p3</code> <code>p3_conf</code> and <code>p3_dog</code> should be in two columns i.e <code>breed</code> and <code>conf</code></td>\n",
    "        <td>Picked the greatest true p1 confidence level value and corresponding dog breeds into new columns while dropping these columns</td>\n",
    "    </tr>\n",
    "    <tr>\n",
    "        <td>General</td>\n",
    "        <td>All datasets should be combined into one dataset</td>\n",
    "        <td>Merged all datasets into one dataset using tweet ids</td>\n",
    "    </tr>\n",
    "    <tr>\n",
    "</table>"
   ]
  },
  {
   "cell_type": "markdown",
   "metadata": {},
   "source": [
    "### Results"
   ]
  },
  {
   "cell_type": "markdown",
   "metadata": {},
   "source": [
    "The result was a final dataset that merged data from the three sources after effectively cleaning the data. This data was stored into a csv file called `twitter_archive_master.csv`."
   ]
  }
 ],
 "metadata": {
  "kernelspec": {
   "display_name": "Python 3.9.12 ('base')",
   "language": "python",
   "name": "python3"
  },
  "language_info": {
   "codemirror_mode": {
    "name": "ipython",
    "version": 3
   },
   "file_extension": ".py",
   "mimetype": "text/x-python",
   "name": "python",
   "nbconvert_exporter": "python",
   "pygments_lexer": "ipython3",
   "version": "3.9.12"
  },
  "vscode": {
   "interpreter": {
    "hash": "058447d99194da2260a2b6c183a3bc5416edd973d7829816b35e3782865f7dd9"
   }
  }
 },
 "nbformat": 4,
 "nbformat_minor": 2
}
